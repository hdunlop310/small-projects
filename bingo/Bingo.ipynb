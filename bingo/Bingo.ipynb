{
 "cells": [
  {
   "cell_type": "code",
   "execution_count": null,
   "metadata": {},
   "outputs": [
    {
     "name": "stdout",
     "output_type": "stream",
     "text": [
      "How many players? 1\n",
      "Text files generated - get your cards\n",
      "Ready to start the game? Enter 'Y' or 'N' y\n",
      "Starting...\n",
      "0\n"
     ]
    }
   ],
   "source": [
    "#bingo \n",
    "import random, numpy\n",
    "def generate_card():\n",
    "    number = 25\n",
    "    max_number = 50\n",
    "    array = []\n",
    "    while len(array) < number:\n",
    "        new_num = random.randint(0,max_number)\n",
    "        if new_num not in array:\n",
    "            array.append(new_num)\n",
    "\n",
    "    arr = numpy.array(array)\n",
    "\n",
    "    bingo_card = arr.reshape(5, 5)\n",
    "    return bingo_card\n",
    "\n",
    "def card_to_txt(bingo_card, num):\n",
    "    file = open(\"card\"+str(num)+\".txt\", \"w+\") \n",
    "    content = str(bingo_card) \n",
    "    file.write(content) \n",
    "    file.close() \n",
    "    \n",
    "\n",
    "def number_caller():\n",
    "    bingo = False\n",
    "    number_called = []\n",
    "    max_number = 50\n",
    "    while not bingo and len(number_called) <= max_number: \n",
    "        num = random.randint(0,max_number)\n",
    "        if num not in number_called:\n",
    "            print(num)\n",
    "            number_called.append(num)\n",
    "            bingo_reached = input(\"Has a player reached bingo? Enter 'Y' or 'N' \")\n",
    "            if bingo_reached.upper() == \"Y\":\n",
    "                print(\"Well Done to the winner!\")\n",
    "                bingo = True\n",
    "    \n",
    "\n",
    "def main():\n",
    "    num_of_players = int(input(\"How many players? \"))\n",
    "\n",
    "    for counter in range(0,num_of_players):\n",
    "        card = generate_card()\n",
    "        card_to_txt(card, counter)\n",
    "    \n",
    "    print(\"Text files generated - get your cards\")\n",
    "    ready = input(\"Ready to start the game? Enter 'Y' or 'N' \")\n",
    "    if ready.upper() == \"Y\":\n",
    "                print(\"Starting...\")\n",
    "    number_caller()\n",
    "\n",
    "if __name__ == \"__main__\":\n",
    "    main()\n"
   ]
  },
  {
   "cell_type": "code",
   "execution_count": null,
   "metadata": {},
   "outputs": [],
   "source": []
  },
  {
   "cell_type": "code",
   "execution_count": null,
   "metadata": {},
   "outputs": [],
   "source": []
  },
  {
   "cell_type": "code",
   "execution_count": null,
   "metadata": {},
   "outputs": [],
   "source": []
  }
 ],
 "metadata": {
  "kernelspec": {
   "display_name": "Python 3",
   "language": "python",
   "name": "python3"
  },
  "language_info": {
   "codemirror_mode": {
    "name": "ipython",
    "version": 3
   },
   "file_extension": ".py",
   "mimetype": "text/x-python",
   "name": "python",
   "nbconvert_exporter": "python",
   "pygments_lexer": "ipython3",
   "version": "3.7.4"
  }
 },
 "nbformat": 4,
 "nbformat_minor": 4
}
