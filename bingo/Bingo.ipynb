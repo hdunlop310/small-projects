{
 "cells": [
  {
   "cell_type": "code",
   "execution_count": 4,
   "metadata": {},
   "outputs": [
    {
     "name": "stdout",
     "output_type": "stream",
     "text": [
      "How many players? 2\n",
      "[[11 44  8 28 47]\n",
      " [32 38 13 21 49]\n",
      " [12  2 29 40  0]\n",
      " [45  4 14  5  9]\n",
      " [ 3 33 36 19 18]]\n",
      "\n",
      "\n",
      "[[48  1 32  4 11]\n",
      " [21 46 17  5 33]\n",
      " [30 10 49 35 12]\n",
      " [41 31  9 13 42]\n",
      " [ 6 39 38 45 43]]\n",
      "\n",
      "\n",
      "Time to start the game!\n",
      "25\n",
      "Has a player reached bingo? Enter 'Y' or 'N' n\n",
      "34\n",
      "Has a player reached bingo? Enter 'Y' or 'N' n\n",
      "1\n",
      "Has a player reached bingo? Enter 'Y' or 'N' n\n",
      "30\n",
      "Has a player reached bingo? Enter 'Y' or 'N' n\n",
      "19\n",
      "Has a player reached bingo? Enter 'Y' or 'N' n\n",
      "0\n",
      "Has a player reached bingo? Enter 'Y' or 'N' n\n",
      "18\n",
      "Has a player reached bingo? Enter 'Y' or 'N' n\n",
      "5\n",
      "Has a player reached bingo? Enter 'Y' or 'N' n\n",
      "21\n",
      "Has a player reached bingo? Enter 'Y' or 'N' n\n",
      "22\n",
      "Has a player reached bingo? Enter 'Y' or 'N' n\n",
      "9\n",
      "Has a player reached bingo? Enter 'Y' or 'N' n\n",
      "26\n",
      "Has a player reached bingo? Enter 'Y' or 'N' n\n",
      "12\n",
      "Has a player reached bingo? Enter 'Y' or 'N' n\n",
      "17\n",
      "Has a player reached bingo? Enter 'Y' or 'N' y\n",
      "Well Done to the winner!\n"
     ]
    }
   ],
   "source": [
    "#bingo \n",
    "import random, numpy\n",
    "def generate_card():\n",
    "    number = 25\n",
    "    max_number = 50\n",
    "    array = []\n",
    "    while len(array) < number:\n",
    "        new_num = random.randint(0,max_number)\n",
    "        if new_num not in array:\n",
    "            array.append(new_num)\n",
    "\n",
    "    arr = numpy.array(array)\n",
    "\n",
    "    bingo_card = arr.reshape(5, 5)\n",
    "    return bingo_card\n",
    "\n",
    "def number_caller():\n",
    "    bingo = False\n",
    "    number_called = []\n",
    "    max_number = 50\n",
    "    while not bingo and len(number_called) <= max_number: \n",
    "        num = random.randint(0,max_number)\n",
    "        if num not in number_called:\n",
    "            print(num)\n",
    "            number_called.append(num)\n",
    "            bingo_reached = input(\"Has a player reached bingo? Enter 'Y' or 'N' \")\n",
    "            if bingo_reached.upper() == \"Y\":\n",
    "                print(\"Well Done to the winner!\")\n",
    "                bingo = True\n",
    "    \n",
    "        \n",
    "num_of_players = int(input(\"How many players? \"))\n",
    "\n",
    "for counter in range(0,num_of_players):\n",
    "    print(generate_card())\n",
    "    print()\n",
    "    print()\n",
    "\n",
    "print(\"Time to start the game!\")\n",
    "number_caller()"
   ]
  },
  {
   "cell_type": "code",
   "execution_count": null,
   "metadata": {},
   "outputs": [],
   "source": []
  },
  {
   "cell_type": "code",
   "execution_count": null,
   "metadata": {},
   "outputs": [],
   "source": []
  },
  {
   "cell_type": "code",
   "execution_count": null,
   "metadata": {},
   "outputs": [],
   "source": []
  }
 ],
 "metadata": {
  "kernelspec": {
   "display_name": "Python 3",
   "language": "python",
   "name": "python3"
  },
  "language_info": {
   "codemirror_mode": {
    "name": "ipython",
    "version": 3
   },
   "file_extension": ".py",
   "mimetype": "text/x-python",
   "name": "python",
   "nbconvert_exporter": "python",
   "pygments_lexer": "ipython3",
   "version": "3.8.1"
  }
 },
 "nbformat": 4,
 "nbformat_minor": 4
}
